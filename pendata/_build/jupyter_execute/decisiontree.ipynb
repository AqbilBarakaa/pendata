{
 "cells": [
  {
   "cell_type": "code",
   "execution_count": 1,
   "id": "3ce74315-7eaf-4648-b780-6ed85790c2ca",
   "metadata": {},
   "outputs": [
    {
     "ename": "ModuleNotFoundError",
     "evalue": "No module named 'seaborn'",
     "output_type": "error",
     "traceback": [
      "\u001b[1;31m---------------------------------------------------------------------------\u001b[0m",
      "\u001b[1;31mModuleNotFoundError\u001b[0m                       Traceback (most recent call last)",
      "Cell \u001b[1;32mIn[1], line 2\u001b[0m\n\u001b[0;32m      1\u001b[0m \u001b[38;5;66;03m#| echo: false\u001b[39;00m\n\u001b[1;32m----> 2\u001b[0m \u001b[38;5;28;01mimport\u001b[39;00m\u001b[38;5;250m \u001b[39m\u001b[38;5;21;01mseaborn\u001b[39;00m\u001b[38;5;250m \u001b[39m\u001b[38;5;28;01mas\u001b[39;00m\u001b[38;5;250m \u001b[39m\u001b[38;5;21;01msns\u001b[39;00m\n\u001b[0;32m      3\u001b[0m \u001b[38;5;28;01mimport\u001b[39;00m\u001b[38;5;250m \u001b[39m\u001b[38;5;21;01mmatplotlib\u001b[39;00m\u001b[38;5;21;01m.\u001b[39;00m\u001b[38;5;21;01mpyplot\u001b[39;00m\u001b[38;5;250m \u001b[39m\u001b[38;5;28;01mas\u001b[39;00m\u001b[38;5;250m \u001b[39m\u001b[38;5;21;01mplt\u001b[39;00m\n\u001b[0;32m      5\u001b[0m \u001b[38;5;66;03m# Load Iris dataset\u001b[39;00m\n",
      "\u001b[1;31mModuleNotFoundError\u001b[0m: No module named 'seaborn'"
     ]
    }
   ],
   "source": [
    "#| echo: false\n",
    "import seaborn as sns\n",
    "import matplotlib.pyplot as plt\n",
    "\n",
    "# Load Iris dataset\n",
    "iris = sns.load_dataset('iris')\n",
    "\n",
    "# Filter hanya Setosa dan gabungkan Versicolor + Virginica sebagai \"Other\"\n",
    "iris['species_grouped'] = iris['species'].apply(lambda x: 'setosa' if x == 'setosa' else 'non-setosa')\n",
    "\n",
    "# Plotting\n",
    "plt.figure(figsize=(8, 6))\n",
    "sns.scatterplot(\n",
    "    data=iris,\n",
    "    x='sepal_length',\n",
    "    y='sepal_width',\n",
    "    hue='species_grouped',\n",
    "    style='species_grouped',\n",
    "    palette={'setosa': 'green', 'non-setosa': 'orange'},\n",
    "    markers={'setosa': 'o', 'non-setosa': '^'},  # <-- Segitiga untuk non-setosa\n",
    "    s=100\n",
    ")\n",
    "\n",
    "# Tambahkan garis batas\n",
    "plt.axvline(x=5.45, color='red', linestyle='--', linewidth=2, label='Batas Sepal Length = 5.45')\n",
    "#plt.axhline(y=2.8, color='blue', linestyle='--', linewidth=2, label='Batas Sepal Width = 2.8')\n",
    "\n",
    "# Label dan judul\n",
    "plt.title('Scatter Plot of Sepal Length vs Sepal Width (Setosa vs Non-Setosa)')\n",
    "plt.xlabel('Sepal Length (cm)')\n",
    "plt.ylabel('Sepal Width (cm)')\n",
    "\n",
    "# Legenda dan grid\n",
    "plt.legend(title='Species Group')\n",
    "plt.grid(True)\n",
    "plt.tight_layout()\n",
    "plt.show()"
   ]
  },
  {
   "cell_type": "markdown",
   "id": "b9ddcf6c-e4af-4666-80cf-24c96458f74e",
   "metadata": {},
   "source": [
    "```plaintext\n",
    "i ← 10;\n",
    "if i ≥ 5 then\n",
    "    i ← u - 1;\n",
    "else\n",
    "    if i ≤ 3 then\n",
    "        i ← i + 2;\n",
    "    end\n",
    "end"
   ]
  },
  {
   "cell_type": "markdown",
   "id": "d19d3a85-b8ce-450f-9b08-48dde574a102",
   "metadata": {},
   "source": [
    "<iframe scrolling=\"no\" title=\"Matrix-Graph\" src=\"https://www.geogebra.org/material/iframe/id/vmpudvdz/width/1004/height/544/border/888888/sfsb/true/smb/false/stb/false/stbh/false/ai/false/asb/false/sri/true/rc/false/ld/false/sdz/true/ctl/false\" width=\"1004px\" height=\"544px\" style=\"border:0px;\"> </iframe>"
   ]
  }
 ],
 "metadata": {
  "kernelspec": {
   "display_name": "Python 3",
   "language": "python",
   "name": "python3"
  },
  "language_info": {
   "codemirror_mode": {
    "name": "ipython",
    "version": 3
   },
   "file_extension": ".py",
   "mimetype": "text/x-python",
   "name": "python",
   "nbconvert_exporter": "python",
   "pygments_lexer": "ipython3",
   "version": "3.9.13"
  }
 },
 "nbformat": 4,
 "nbformat_minor": 5
}