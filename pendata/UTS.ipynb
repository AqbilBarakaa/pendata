{
 "cells": [
  {
   "cell_type": "markdown",
   "id": "9df43a9f",
   "metadata": {},
   "source": [
    "# **UJIAN TENGAH SEMESTER**"
   ]
  },
  {
   "cell_type": "markdown",
   "id": "dca18b34",
   "metadata": {},
   "source": [
    "## **1. Pemahaman Data (data understanding)**"
   ]
  },
  {
   "cell_type": "markdown",
   "id": "c7b74c35",
   "metadata": {},
   "source": [
    "**Deskripsi Dataset**"
   ]
  },
  {
   "cell_type": "markdown",
   "id": "b0fa0f6f",
   "metadata": {},
   "source": [
    "Dataset ini berisi informasi tentang pasien dengan sirosis hati. Tujuan utama adalah untuk memprediksi kelangsungan hidup pasien berdasarkan berbagai fitur klinis."
   ]
  },
  {
   "cell_type": "markdown",
   "id": "cda76425",
   "metadata": {},
   "source": [
    "**Memahami Data**"
   ]
  },
  {
   "cell_type": "code",
   "execution_count": 15,
   "id": "9afd006b",
   "metadata": {},
   "outputs": [
    {
     "data": {
      "text/html": [
       "<div>\n",
       "<style scoped>\n",
       "    .dataframe tbody tr th:only-of-type {\n",
       "        vertical-align: middle;\n",
       "    }\n",
       "\n",
       "    .dataframe tbody tr th {\n",
       "        vertical-align: top;\n",
       "    }\n",
       "\n",
       "    .dataframe thead th {\n",
       "        text-align: right;\n",
       "    }\n",
       "</style>\n",
       "<table border=\"1\" class=\"dataframe\">\n",
       "  <thead>\n",
       "    <tr style=\"text-align: right;\">\n",
       "      <th></th>\n",
       "      <th>ID</th>\n",
       "      <th>N_Days</th>\n",
       "      <th>Status</th>\n",
       "      <th>Drug</th>\n",
       "      <th>Age</th>\n",
       "      <th>Sex</th>\n",
       "      <th>Ascites</th>\n",
       "      <th>Hepatomegaly</th>\n",
       "      <th>Spiders</th>\n",
       "      <th>Edema</th>\n",
       "      <th>Bilirubin</th>\n",
       "      <th>Cholesterol</th>\n",
       "      <th>Albumin</th>\n",
       "      <th>Copper</th>\n",
       "      <th>Alk_Phos</th>\n",
       "      <th>SGOT</th>\n",
       "      <th>Tryglicerides</th>\n",
       "      <th>Platelets</th>\n",
       "      <th>Prothrombin</th>\n",
       "      <th>Stage</th>\n",
       "    </tr>\n",
       "  </thead>\n",
       "  <tbody>\n",
       "    <tr>\n",
       "      <th>0</th>\n",
       "      <td>1</td>\n",
       "      <td>400</td>\n",
       "      <td>D</td>\n",
       "      <td>D-penicillamine</td>\n",
       "      <td>21464</td>\n",
       "      <td>F</td>\n",
       "      <td>Y</td>\n",
       "      <td>Y</td>\n",
       "      <td>Y</td>\n",
       "      <td>Y</td>\n",
       "      <td>14.5</td>\n",
       "      <td>261.0</td>\n",
       "      <td>2.60</td>\n",
       "      <td>156.0</td>\n",
       "      <td>1718.0</td>\n",
       "      <td>137.95</td>\n",
       "      <td>172.0</td>\n",
       "      <td>190.0</td>\n",
       "      <td>12.2</td>\n",
       "      <td>4.0</td>\n",
       "    </tr>\n",
       "    <tr>\n",
       "      <th>1</th>\n",
       "      <td>2</td>\n",
       "      <td>4500</td>\n",
       "      <td>C</td>\n",
       "      <td>D-penicillamine</td>\n",
       "      <td>20617</td>\n",
       "      <td>F</td>\n",
       "      <td>N</td>\n",
       "      <td>Y</td>\n",
       "      <td>Y</td>\n",
       "      <td>N</td>\n",
       "      <td>1.1</td>\n",
       "      <td>302.0</td>\n",
       "      <td>4.14</td>\n",
       "      <td>54.0</td>\n",
       "      <td>7394.8</td>\n",
       "      <td>113.52</td>\n",
       "      <td>88.0</td>\n",
       "      <td>221.0</td>\n",
       "      <td>10.6</td>\n",
       "      <td>3.0</td>\n",
       "    </tr>\n",
       "    <tr>\n",
       "      <th>2</th>\n",
       "      <td>3</td>\n",
       "      <td>1012</td>\n",
       "      <td>D</td>\n",
       "      <td>D-penicillamine</td>\n",
       "      <td>25594</td>\n",
       "      <td>M</td>\n",
       "      <td>N</td>\n",
       "      <td>N</td>\n",
       "      <td>N</td>\n",
       "      <td>S</td>\n",
       "      <td>1.4</td>\n",
       "      <td>176.0</td>\n",
       "      <td>3.48</td>\n",
       "      <td>210.0</td>\n",
       "      <td>516.0</td>\n",
       "      <td>96.10</td>\n",
       "      <td>55.0</td>\n",
       "      <td>151.0</td>\n",
       "      <td>12.0</td>\n",
       "      <td>4.0</td>\n",
       "    </tr>\n",
       "    <tr>\n",
       "      <th>3</th>\n",
       "      <td>4</td>\n",
       "      <td>1925</td>\n",
       "      <td>D</td>\n",
       "      <td>D-penicillamine</td>\n",
       "      <td>19994</td>\n",
       "      <td>F</td>\n",
       "      <td>N</td>\n",
       "      <td>Y</td>\n",
       "      <td>Y</td>\n",
       "      <td>S</td>\n",
       "      <td>1.8</td>\n",
       "      <td>244.0</td>\n",
       "      <td>2.54</td>\n",
       "      <td>64.0</td>\n",
       "      <td>6121.8</td>\n",
       "      <td>60.63</td>\n",
       "      <td>92.0</td>\n",
       "      <td>183.0</td>\n",
       "      <td>10.3</td>\n",
       "      <td>4.0</td>\n",
       "    </tr>\n",
       "    <tr>\n",
       "      <th>4</th>\n",
       "      <td>5</td>\n",
       "      <td>1504</td>\n",
       "      <td>CL</td>\n",
       "      <td>Placebo</td>\n",
       "      <td>13918</td>\n",
       "      <td>F</td>\n",
       "      <td>N</td>\n",
       "      <td>Y</td>\n",
       "      <td>Y</td>\n",
       "      <td>N</td>\n",
       "      <td>3.4</td>\n",
       "      <td>279.0</td>\n",
       "      <td>3.53</td>\n",
       "      <td>143.0</td>\n",
       "      <td>671.0</td>\n",
       "      <td>113.15</td>\n",
       "      <td>72.0</td>\n",
       "      <td>136.0</td>\n",
       "      <td>10.9</td>\n",
       "      <td>3.0</td>\n",
       "    </tr>\n",
       "  </tbody>\n",
       "</table>\n",
       "</div>"
      ],
      "text/plain": [
       "   ID  N_Days Status             Drug    Age Sex Ascites Hepatomegaly Spiders  \\\n",
       "0   1     400      D  D-penicillamine  21464   F       Y            Y       Y   \n",
       "1   2    4500      C  D-penicillamine  20617   F       N            Y       Y   \n",
       "2   3    1012      D  D-penicillamine  25594   M       N            N       N   \n",
       "3   4    1925      D  D-penicillamine  19994   F       N            Y       Y   \n",
       "4   5    1504     CL          Placebo  13918   F       N            Y       Y   \n",
       "\n",
       "  Edema  Bilirubin  Cholesterol  Albumin  Copper  Alk_Phos    SGOT  \\\n",
       "0     Y       14.5        261.0     2.60   156.0    1718.0  137.95   \n",
       "1     N        1.1        302.0     4.14    54.0    7394.8  113.52   \n",
       "2     S        1.4        176.0     3.48   210.0     516.0   96.10   \n",
       "3     S        1.8        244.0     2.54    64.0    6121.8   60.63   \n",
       "4     N        3.4        279.0     3.53   143.0     671.0  113.15   \n",
       "\n",
       "   Tryglicerides  Platelets  Prothrombin  Stage  \n",
       "0          172.0      190.0         12.2    4.0  \n",
       "1           88.0      221.0         10.6    3.0  \n",
       "2           55.0      151.0         12.0    4.0  \n",
       "3           92.0      183.0         10.3    4.0  \n",
       "4           72.0      136.0         10.9    3.0  "
      ]
     },
     "execution_count": 15,
     "metadata": {},
     "output_type": "execute_result"
    }
   ],
   "source": [
    "import pandas as pd\n",
    "\n",
    "# Membaca dataset\n",
    "df = pd.read_csv(\"cirrhosis.csv\")\n",
    "\n",
    "# Menampilkan 5 baris pertama\n",
    "df.head()\n"
   ]
  },
  {
   "cell_type": "markdown",
   "id": "4e7dfd46",
   "metadata": {},
   "source": [
    "**Informasi Umum**"
   ]
  },
  {
   "cell_type": "code",
   "execution_count": 16,
   "id": "732e1aa7",
   "metadata": {},
   "outputs": [
    {
     "name": "stdout",
     "output_type": "stream",
     "text": [
      "<class 'pandas.core.frame.DataFrame'>\n",
      "RangeIndex: 418 entries, 0 to 417\n",
      "Data columns (total 20 columns):\n",
      " #   Column         Non-Null Count  Dtype  \n",
      "---  ------         --------------  -----  \n",
      " 0   ID             418 non-null    int64  \n",
      " 1   N_Days         418 non-null    int64  \n",
      " 2   Status         418 non-null    object \n",
      " 3   Drug           312 non-null    object \n",
      " 4   Age            418 non-null    int64  \n",
      " 5   Sex            418 non-null    object \n",
      " 6   Ascites        312 non-null    object \n",
      " 7   Hepatomegaly   312 non-null    object \n",
      " 8   Spiders        312 non-null    object \n",
      " 9   Edema          418 non-null    object \n",
      " 10  Bilirubin      418 non-null    float64\n",
      " 11  Cholesterol    284 non-null    float64\n",
      " 12  Albumin        418 non-null    float64\n",
      " 13  Copper         310 non-null    float64\n",
      " 14  Alk_Phos       312 non-null    float64\n",
      " 15  SGOT           312 non-null    float64\n",
      " 16  Tryglicerides  282 non-null    float64\n",
      " 17  Platelets      407 non-null    float64\n",
      " 18  Prothrombin    416 non-null    float64\n",
      " 19  Stage          412 non-null    float64\n",
      "dtypes: float64(10), int64(3), object(7)\n",
      "memory usage: 65.4+ KB\n"
     ]
    }
   ],
   "source": [
    "# Informasi umum tentang dataset\n",
    "df.info()"
   ]
  },
  {
   "cell_type": "markdown",
   "id": "7e24622f",
   "metadata": {},
   "source": [
    "**Statistik Deskriptif**"
   ]
  },
  {
   "cell_type": "code",
   "execution_count": 17,
   "id": "2793d05b",
   "metadata": {},
   "outputs": [
    {
     "data": {
      "text/html": [
       "<div>\n",
       "<style scoped>\n",
       "    .dataframe tbody tr th:only-of-type {\n",
       "        vertical-align: middle;\n",
       "    }\n",
       "\n",
       "    .dataframe tbody tr th {\n",
       "        vertical-align: top;\n",
       "    }\n",
       "\n",
       "    .dataframe thead th {\n",
       "        text-align: right;\n",
       "    }\n",
       "</style>\n",
       "<table border=\"1\" class=\"dataframe\">\n",
       "  <thead>\n",
       "    <tr style=\"text-align: right;\">\n",
       "      <th></th>\n",
       "      <th>ID</th>\n",
       "      <th>N_Days</th>\n",
       "      <th>Age</th>\n",
       "      <th>Bilirubin</th>\n",
       "      <th>Cholesterol</th>\n",
       "      <th>Albumin</th>\n",
       "      <th>Copper</th>\n",
       "      <th>Alk_Phos</th>\n",
       "      <th>SGOT</th>\n",
       "      <th>Tryglicerides</th>\n",
       "      <th>Platelets</th>\n",
       "      <th>Prothrombin</th>\n",
       "      <th>Stage</th>\n",
       "    </tr>\n",
       "  </thead>\n",
       "  <tbody>\n",
       "    <tr>\n",
       "      <th>count</th>\n",
       "      <td>418.000000</td>\n",
       "      <td>418.000000</td>\n",
       "      <td>418.000000</td>\n",
       "      <td>418.000000</td>\n",
       "      <td>284.000000</td>\n",
       "      <td>418.000000</td>\n",
       "      <td>310.000000</td>\n",
       "      <td>312.000000</td>\n",
       "      <td>312.000000</td>\n",
       "      <td>282.000000</td>\n",
       "      <td>407.000000</td>\n",
       "      <td>416.000000</td>\n",
       "      <td>412.000000</td>\n",
       "    </tr>\n",
       "    <tr>\n",
       "      <th>mean</th>\n",
       "      <td>209.500000</td>\n",
       "      <td>1917.782297</td>\n",
       "      <td>18533.351675</td>\n",
       "      <td>3.220813</td>\n",
       "      <td>369.510563</td>\n",
       "      <td>3.497440</td>\n",
       "      <td>97.648387</td>\n",
       "      <td>1982.655769</td>\n",
       "      <td>122.556346</td>\n",
       "      <td>124.702128</td>\n",
       "      <td>257.024570</td>\n",
       "      <td>10.731731</td>\n",
       "      <td>3.024272</td>\n",
       "    </tr>\n",
       "    <tr>\n",
       "      <th>std</th>\n",
       "      <td>120.810458</td>\n",
       "      <td>1104.672992</td>\n",
       "      <td>3815.845055</td>\n",
       "      <td>4.407506</td>\n",
       "      <td>231.944545</td>\n",
       "      <td>0.424972</td>\n",
       "      <td>85.613920</td>\n",
       "      <td>2140.388824</td>\n",
       "      <td>56.699525</td>\n",
       "      <td>65.148639</td>\n",
       "      <td>98.325585</td>\n",
       "      <td>1.022000</td>\n",
       "      <td>0.882042</td>\n",
       "    </tr>\n",
       "    <tr>\n",
       "      <th>min</th>\n",
       "      <td>1.000000</td>\n",
       "      <td>41.000000</td>\n",
       "      <td>9598.000000</td>\n",
       "      <td>0.300000</td>\n",
       "      <td>120.000000</td>\n",
       "      <td>1.960000</td>\n",
       "      <td>4.000000</td>\n",
       "      <td>289.000000</td>\n",
       "      <td>26.350000</td>\n",
       "      <td>33.000000</td>\n",
       "      <td>62.000000</td>\n",
       "      <td>9.000000</td>\n",
       "      <td>1.000000</td>\n",
       "    </tr>\n",
       "    <tr>\n",
       "      <th>25%</th>\n",
       "      <td>105.250000</td>\n",
       "      <td>1092.750000</td>\n",
       "      <td>15644.500000</td>\n",
       "      <td>0.800000</td>\n",
       "      <td>249.500000</td>\n",
       "      <td>3.242500</td>\n",
       "      <td>41.250000</td>\n",
       "      <td>871.500000</td>\n",
       "      <td>80.600000</td>\n",
       "      <td>84.250000</td>\n",
       "      <td>188.500000</td>\n",
       "      <td>10.000000</td>\n",
       "      <td>2.000000</td>\n",
       "    </tr>\n",
       "    <tr>\n",
       "      <th>50%</th>\n",
       "      <td>209.500000</td>\n",
       "      <td>1730.000000</td>\n",
       "      <td>18628.000000</td>\n",
       "      <td>1.400000</td>\n",
       "      <td>309.500000</td>\n",
       "      <td>3.530000</td>\n",
       "      <td>73.000000</td>\n",
       "      <td>1259.000000</td>\n",
       "      <td>114.700000</td>\n",
       "      <td>108.000000</td>\n",
       "      <td>251.000000</td>\n",
       "      <td>10.600000</td>\n",
       "      <td>3.000000</td>\n",
       "    </tr>\n",
       "    <tr>\n",
       "      <th>75%</th>\n",
       "      <td>313.750000</td>\n",
       "      <td>2613.500000</td>\n",
       "      <td>21272.500000</td>\n",
       "      <td>3.400000</td>\n",
       "      <td>400.000000</td>\n",
       "      <td>3.770000</td>\n",
       "      <td>123.000000</td>\n",
       "      <td>1980.000000</td>\n",
       "      <td>151.900000</td>\n",
       "      <td>151.000000</td>\n",
       "      <td>318.000000</td>\n",
       "      <td>11.100000</td>\n",
       "      <td>4.000000</td>\n",
       "    </tr>\n",
       "    <tr>\n",
       "      <th>max</th>\n",
       "      <td>418.000000</td>\n",
       "      <td>4795.000000</td>\n",
       "      <td>28650.000000</td>\n",
       "      <td>28.000000</td>\n",
       "      <td>1775.000000</td>\n",
       "      <td>4.640000</td>\n",
       "      <td>588.000000</td>\n",
       "      <td>13862.400000</td>\n",
       "      <td>457.250000</td>\n",
       "      <td>598.000000</td>\n",
       "      <td>721.000000</td>\n",
       "      <td>18.000000</td>\n",
       "      <td>4.000000</td>\n",
       "    </tr>\n",
       "  </tbody>\n",
       "</table>\n",
       "</div>"
      ],
      "text/plain": [
       "               ID       N_Days           Age   Bilirubin  Cholesterol  \\\n",
       "count  418.000000   418.000000    418.000000  418.000000   284.000000   \n",
       "mean   209.500000  1917.782297  18533.351675    3.220813   369.510563   \n",
       "std    120.810458  1104.672992   3815.845055    4.407506   231.944545   \n",
       "min      1.000000    41.000000   9598.000000    0.300000   120.000000   \n",
       "25%    105.250000  1092.750000  15644.500000    0.800000   249.500000   \n",
       "50%    209.500000  1730.000000  18628.000000    1.400000   309.500000   \n",
       "75%    313.750000  2613.500000  21272.500000    3.400000   400.000000   \n",
       "max    418.000000  4795.000000  28650.000000   28.000000  1775.000000   \n",
       "\n",
       "          Albumin      Copper      Alk_Phos        SGOT  Tryglicerides  \\\n",
       "count  418.000000  310.000000    312.000000  312.000000     282.000000   \n",
       "mean     3.497440   97.648387   1982.655769  122.556346     124.702128   \n",
       "std      0.424972   85.613920   2140.388824   56.699525      65.148639   \n",
       "min      1.960000    4.000000    289.000000   26.350000      33.000000   \n",
       "25%      3.242500   41.250000    871.500000   80.600000      84.250000   \n",
       "50%      3.530000   73.000000   1259.000000  114.700000     108.000000   \n",
       "75%      3.770000  123.000000   1980.000000  151.900000     151.000000   \n",
       "max      4.640000  588.000000  13862.400000  457.250000     598.000000   \n",
       "\n",
       "        Platelets  Prothrombin       Stage  \n",
       "count  407.000000   416.000000  412.000000  \n",
       "mean   257.024570    10.731731    3.024272  \n",
       "std     98.325585     1.022000    0.882042  \n",
       "min     62.000000     9.000000    1.000000  \n",
       "25%    188.500000    10.000000    2.000000  \n",
       "50%    251.000000    10.600000    3.000000  \n",
       "75%    318.000000    11.100000    4.000000  \n",
       "max    721.000000    18.000000    4.000000  "
      ]
     },
     "execution_count": 17,
     "metadata": {},
     "output_type": "execute_result"
    }
   ],
   "source": [
    "# Statistik deskriptif untuk kolom numerik\n",
    "df.describe()"
   ]
  },
  {
   "cell_type": "markdown",
   "id": "a3e511f4",
   "metadata": {},
   "source": [
    "### **Frekuensi kemunculan untuk variabel kategorikal**"
   ]
  },
  {
   "cell_type": "code",
   "execution_count": 18,
   "id": "e4058a79",
   "metadata": {},
   "outputs": [
    {
     "name": "stdout",
     "output_type": "stream",
     "text": [
      "\n",
      "Frekuensi Variabel Kategorikal:\n",
      "\n",
      "Status:\n",
      " Status\n",
      "C     232\n",
      "D     161\n",
      "CL     25\n",
      "Name: count, dtype: int64\n",
      "\n",
      "Drug:\n",
      " Drug\n",
      "D-penicillamine    158\n",
      "Placebo            154\n",
      "Name: count, dtype: int64\n",
      "\n",
      "Sex:\n",
      " Sex\n",
      "F    374\n",
      "M     44\n",
      "Name: count, dtype: int64\n",
      "\n",
      "Ascites:\n",
      " Ascites\n",
      "N    288\n",
      "Y     24\n",
      "Name: count, dtype: int64\n",
      "\n",
      "Hepatomegaly:\n",
      " Hepatomegaly\n",
      "Y    160\n",
      "N    152\n",
      "Name: count, dtype: int64\n",
      "\n",
      "Spiders:\n",
      " Spiders\n",
      "N    222\n",
      "Y     90\n",
      "Name: count, dtype: int64\n",
      "\n",
      "Edema:\n",
      " Edema\n",
      "N    354\n",
      "S     44\n",
      "Y     20\n",
      "Name: count, dtype: int64\n"
     ]
    }
   ],
   "source": [
    "\n",
    "print(\"\\nFrekuensi Variabel Kategorikal:\")\n",
    "for col in df.select_dtypes(include=['object']).columns:\n",
    "    print(f\"\\n{col}:\\n\", df[col].value_counts())"
   ]
  },
  {
   "cell_type": "markdown",
   "id": "dac73b18",
   "metadata": {},
   "source": [
    "**Visualisasi Distribusi Fitur**"
   ]
  },
  {
   "cell_type": "code",
   "execution_count": 19,
   "id": "1f17e91b",
   "metadata": {},
   "outputs": [
    {
     "name": "stdout",
     "output_type": "stream",
     "text": [
      "Requirement already satisfied: seaborn in c:\\laragon\\bin\\python\\python-3.13\\lib\\site-packages (0.13.2)\n",
      "Requirement already satisfied: numpy!=1.24.0,>=1.20 in c:\\users\\acer\\appdata\\roaming\\python\\python313\\site-packages (from seaborn) (2.2.3)\n",
      "Requirement already satisfied: pandas>=1.2 in c:\\users\\acer\\appdata\\roaming\\python\\python313\\site-packages (from seaborn) (2.2.3)\n",
      "Requirement already satisfied: matplotlib!=3.6.1,>=3.4 in c:\\laragon\\bin\\python\\python-3.13\\lib\\site-packages (from seaborn) (3.10.3)\n",
      "Requirement already satisfied: contourpy>=1.0.1 in c:\\laragon\\bin\\python\\python-3.13\\lib\\site-packages (from matplotlib!=3.6.1,>=3.4->seaborn) (1.3.2)\n",
      "Requirement already satisfied: cycler>=0.10 in c:\\laragon\\bin\\python\\python-3.13\\lib\\site-packages (from matplotlib!=3.6.1,>=3.4->seaborn) (0.12.1)\n",
      "Requirement already satisfied: fonttools>=4.22.0 in c:\\laragon\\bin\\python\\python-3.13\\lib\\site-packages (from matplotlib!=3.6.1,>=3.4->seaborn) (4.58.2)\n",
      "Requirement already satisfied: kiwisolver>=1.3.1 in c:\\laragon\\bin\\python\\python-3.13\\lib\\site-packages (from matplotlib!=3.6.1,>=3.4->seaborn) (1.4.8)\n",
      "Requirement already satisfied: packaging>=20.0 in c:\\users\\acer\\appdata\\roaming\\python\\python313\\site-packages (from matplotlib!=3.6.1,>=3.4->seaborn) (24.2)\n",
      "Requirement already satisfied: pillow>=8 in c:\\laragon\\bin\\python\\python-3.13\\lib\\site-packages (from matplotlib!=3.6.1,>=3.4->seaborn) (11.2.1)\n",
      "Requirement already satisfied: pyparsing>=2.3.1 in c:\\laragon\\bin\\python\\python-3.13\\lib\\site-packages (from matplotlib!=3.6.1,>=3.4->seaborn) (3.2.3)\n",
      "Requirement already satisfied: python-dateutil>=2.7 in c:\\users\\acer\\appdata\\roaming\\python\\python313\\site-packages (from matplotlib!=3.6.1,>=3.4->seaborn) (2.9.0.post0)\n",
      "Requirement already satisfied: pytz>=2020.1 in c:\\users\\acer\\appdata\\roaming\\python\\python313\\site-packages (from pandas>=1.2->seaborn) (2025.2)\n",
      "Requirement already satisfied: tzdata>=2022.7 in c:\\users\\acer\\appdata\\roaming\\python\\python313\\site-packages (from pandas>=1.2->seaborn) (2025.2)\n",
      "Requirement already satisfied: six>=1.5 in c:\\users\\acer\\appdata\\roaming\\python\\python313\\site-packages (from python-dateutil>=2.7->matplotlib!=3.6.1,>=3.4->seaborn) (1.17.0)\n",
      "Note: you may need to restart the kernel to use updated packages.\n"
     ]
    },
    {
     "data": {
      "image/png": "[encoded data removed]",
      "text/plain": [
       "<Figure size 640x480 with 1 Axes>"
      ]
     },
     "metadata": {},
     "output_type": "display_data"
    }
   ],
   "source": [
    "%pip install seaborn\n",
    "\n",
    "import matplotlib.pyplot as plt\n",
    "import seaborn as sns\n",
    "\n",
    "# Histogram untuk kolom 'Age'\n",
    "sns.histplot(df['Age'], bins=30, kde=True)\n",
    "plt.title('Distribusi Umur Pasien')\n",
    "plt.xlabel('Umur')\n",
    "plt.ylabel('Frekuensi')\n",
    "plt.show()"
   ]
  },
  {
   "cell_type": "markdown",
   "id": "86b31c14",
   "metadata": {},
   "source": [
    "## **2. Pemrosesan awal data (Preprocessing)**\n"
   ]
  },
  {
   "cell_type": "code",
   "execution_count": 20,
   "id": "b6ddd8b8",
   "metadata": {},
   "outputs": [
    {
     "name": "stdout",
     "output_type": "stream",
     "text": [
      "Requirement already satisfied: ace_tools in c:\\laragon\\bin\\python\\python-3.13\\lib\\site-packages (0.0)\n",
      "Note: you may need to restart the kernel to use updated packages.\n"
     ]
    }
   ],
   "source": [
    "%pip install ace_tools"
   ]
  },
  {
   "cell_type": "markdown",
   "id": "3a7d38da",
   "metadata": {},
   "source": [
    "**Menangani Nilai Hilang**"
   ]
  },
  {
   "cell_type": "code",
   "execution_count": 21,
   "id": "c59a7a73",
   "metadata": {},
   "outputs": [
    {
     "name": "stdout",
     "output_type": "stream",
     "text": [
      "ID                 int64\n",
      "N_Days             int64\n",
      "Status            object\n",
      "Drug              object\n",
      "Age                int64\n",
      "Sex               object\n",
      "Ascites           object\n",
      "Hepatomegaly      object\n",
      "Spiders           object\n",
      "Edema             object\n",
      "Bilirubin        float64\n",
      "Cholesterol      float64\n",
      "Albumin          float64\n",
      "Copper           float64\n",
      "Alk_Phos         float64\n",
      "SGOT             float64\n",
      "Tryglicerides    float64\n",
      "Platelets        float64\n",
      "Prothrombin      float64\n",
      "Stage            float64\n",
      "dtype: object\n"
     ]
    }
   ],
   "source": [
    "# Cek tipe data\n",
    "print(df.dtypes)\n",
    "\n",
    "# Tangani kolom numerik: isi nilai hilang dengan median\n",
    "num_cols = df.select_dtypes(include=['float64', 'int64']).columns\n",
    "df[num_cols] = df[num_cols].fillna(df[num_cols].median())\n",
    "\n",
    "# Tangani kolom kategorikal (object): isi dengan modus (nilai paling sering)\n",
    "cat_cols = df.select_dtypes(include=['object']).columns\n",
    "for col in cat_cols:\n",
    "    df[col] = df[col].fillna(df[col].mode()[0])\n"
   ]
  },
  {
   "cell_type": "markdown",
   "id": "197ab6f2",
   "metadata": {},
   "source": [
    "**Encoding Variabel Kategorikal**"
   ]
  },
  {
   "cell_type": "code",
   "execution_count": 22,
   "id": "0ae380a4",
   "metadata": {},
   "outputs": [],
   "source": [
    "from sklearn.preprocessing import LabelEncoder\n",
    "\n",
    "# Meng-encode kolom kategorikal\n",
    "categorical_cols = ['Sex', 'Ascites', 'Hepatomegaly', 'Spiders', 'Edema', 'Drug']\n",
    "le = LabelEncoder()\n",
    "for col in categorical_cols:\n",
    "    df[col] = le.fit_transform(df[col].astype(str))\n"
   ]
  },
  {
   "cell_type": "markdown",
   "id": "33cd817c",
   "metadata": {},
   "source": [
    "**Normalisasi Fitur**"
   ]
  },
  {
   "cell_type": "code",
   "execution_count": 23,
   "id": "9b945111",
   "metadata": {},
   "outputs": [],
   "source": [
    "from sklearn.preprocessing import StandardScaler\n",
    "\n",
    "# Memisahkan fitur dan target\n",
    "X = df.drop('Status', axis=1)\n",
    "y = df['Status']\n",
    "\n",
    "# Normalisasi fitur\n",
    "scaler = StandardScaler()\n",
    "X_scaled = scaler.fit_transform(X)\n"
   ]
  },
  {
   "cell_type": "markdown",
   "id": "a9fcc9cf",
   "metadata": {},
   "source": [
    "**Membagi Data**"
   ]
  },
  {
   "cell_type": "code",
   "execution_count": 24,
   "id": "64430d63",
   "metadata": {},
   "outputs": [],
   "source": [
    "from sklearn.model_selection import train_test_split\n",
    "\n",
    "# Membagi data menjadi data latih dan data uji\n",
    "X_train, X_test, y_train, y_test = train_test_split(\n",
    "    X_scaled, y, test_size=0.2, random_state=42)\n"
   ]
  },
  {
   "cell_type": "markdown",
   "id": "3c5f0ecd",
   "metadata": {},
   "source": [
    "**Mendeteksi oulier menggunakan LOF**"
   ]
  },
  {
   "cell_type": "code",
   "execution_count": 25,
   "id": "04a890ad",
   "metadata": {},
   "outputs": [
    {
     "name": "stdout",
     "output_type": "stream",
     "text": [
      "Detected outliers:\n",
      "      ID  N_Days Status             Drug    Age Sex Ascites Hepatomegaly  \\\n",
      "29    30     321      D          Placebo  15116   F       N            Y   \n",
      "52    53    1000      D  D-penicillamine  24621   F       N            Y   \n",
      "28    29    4509      C          Placebo  23331   F       N            N   \n",
      "36    37     223      D  D-penicillamine  22546   F       Y            Y   \n",
      "55    56    1847      D          Placebo  12279   F       N            Y   \n",
      "23    24    4079      D  D-penicillamine  16261   M       N            Y   \n",
      "205  206    2255      C  D-penicillamine  22642   F       N            N   \n",
      "53    54    1434      D  D-penicillamine  14317   F       Y            Y   \n",
      "42    43    4556      C  D-penicillamine  17850   F       N            N   \n",
      "304  305    1216      C          Placebo  15730   F       N            Y   \n",
      "57    58    4459      C  D-penicillamine  16279   M       N            N   \n",
      "58    59    2224      D  D-penicillamine  14754   F       N            Y   \n",
      "22    23     264      D          Placebo  20442   F       Y            Y   \n",
      "41    42    4453      C          Placebo  12307   F       N            Y   \n",
      "54    55    1360      D  D-penicillamine  24020   M       N            N   \n",
      "50    51    3853      D          Placebo  19025   F       N            N   \n",
      "14    15    3584      D  D-penicillamine  23612   F       N            N   \n",
      "62    63     859      D          Placebo  17031   F       N            N   \n",
      "252  253    1765      C  D-penicillamine  28650   M       Y            Y   \n",
      "269  270    1568      C  D-penicillamine   9598   F       N            Y   \n",
      "7      8    2466      D          Placebo  19379   F       N            N   \n",
      "\n",
      "    Spiders Edema  ...  Albumin  Copper  Alk_Phos    SGOT  Tryglicerides  \\\n",
      "29        Y     N  ...     2.54   172.0    7277.0  121.26          158.0   \n",
      "52        N     N  ...     3.10    94.0    6456.2   56.76            NaN   \n",
      "28        N     N  ...     3.78    24.0    5833.0   73.53           86.0   \n",
      "36        N     Y  ...     3.01   150.0    6931.2  180.60          118.0   \n",
      "55        Y     N  ...     3.80    88.0   13862.4   95.46          319.0   \n",
      "23        N     N  ...     4.00   124.0    5719.0  221.88          230.0   \n",
      "205       N     N  ...     4.07    12.0    5300.0   57.35           68.0   \n",
      "53        Y     Y  ...     3.40   262.0    5487.2   73.53          125.0   \n",
      "42        N     N  ...     3.64    36.0    5430.2   67.08           89.0   \n",
      "304       Y     N  ...     3.61    73.0    5184.0  288.00          144.0   \n",
      "57        N     N  ...     4.08    73.0    5890.0   56.76          118.0   \n",
      "58        Y     N  ...     3.50    49.0    7622.8  126.42          124.0   \n",
      "22        Y     Y  ...     2.94   558.0    6064.8  227.04          191.0   \n",
      "41        Y     N  ...     3.54   122.0    8778.0   56.76            NaN   \n",
      "54        N     N  ...     3.94   121.0   10165.0   79.98          219.0   \n",
      "50        N     N  ...     3.60    54.0    4332.0   99.33          143.0   \n",
      "14        N     N  ...     3.87   173.0    9009.8  127.71           96.0   \n",
      "62        Y     Y  ...     3.12    95.0    5396.0  244.90          133.0   \n",
      "252       Y     N  ...     3.03   380.0     983.0  158.10          154.0   \n",
      "269       Y     N  ...     3.74   102.0    1128.0   71.00          117.0   \n",
      "7         N     N  ...     4.00    52.0    4651.2   28.38          189.0   \n",
      "\n",
      "     Platelets  Prothrombin  Stage  LOF_score  is_outlier  \n",
      "29       124.0         11.0    4.0  -2.424073        True  \n",
      "52       214.0         11.0    4.0  -2.416449        True  \n",
      "28       390.0         10.6    2.0  -2.212285        True  \n",
      "36       102.0         12.0    4.0  -2.106150        True  \n",
      "55       365.0         10.6    2.0  -2.082893        True  \n",
      "23        70.0          9.9    2.0  -2.077313        True  \n",
      "205      240.0         11.0    1.0  -2.062836        True  \n",
      "53       254.0         11.0    4.0  -2.059062        True  \n",
      "42       203.0         10.6    2.0  -2.008953        True  \n",
      "304      275.0         10.6    3.0  -2.008460        True  \n",
      "57         NaN         10.6    1.0  -2.004024        True  \n",
      "58       321.0         10.6    3.0  -1.981456        True  \n",
      "22       214.0         11.7    4.0  -1.970027        True  \n",
      "41       344.0         11.0    4.0  -1.891141        True  \n",
      "54       213.0         11.0    3.0  -1.874416        True  \n",
      "50       273.0         10.6    2.0  -1.838340        True  \n",
      "14       295.0         11.0    3.0  -1.836767        True  \n",
      "62       165.0         11.6    3.0  -1.831811        True  \n",
      "252       97.0         11.2    4.0  -1.770562        True  \n",
      "269      228.0         10.2    3.0  -1.760766        True  \n",
      "7        373.0         11.0    3.0  -1.747276        True  \n",
      "\n",
      "[21 rows x 22 columns]\n"
     ]
    }
   ],
   "source": [
    "import pandas as pd\n",
    "from sklearn.neighbors import LocalOutlierFactor\n",
    "\n",
    "# 1. Load dataset\n",
    "df = pd.read_csv('cirrhosis.csv')\n",
    "\n",
    "# 2. Pilih kolom sesuai header yang diberikan\n",
    "cols = [\n",
    "    \"ID\", \"N_Days\", \"Status\", \"Drug\", \"Age\", \"Sex\",\n",
    "    \"Ascites\", \"Hepatomegaly\", \"Spiders\", \"Edema\",\n",
    "    \"Bilirubin\", \"Cholesterol\", \"Albumin\", \"Copper\",\n",
    "    \"Alk_Phos\", \"SGOT\", \"Tryglicerides\",\n",
    "    \"Platelets\", \"Prothrombin\", \"Stage\"\n",
    "]\n",
    "df_subset = df[cols]\n",
    "\n",
    "# 3. Dari subset, pilih kolom numerik untuk LOF\n",
    "numeric_cols = [\n",
    "    \"N_Days\", \"Age\", \"Bilirubin\", \"Cholesterol\", \"Albumin\",\n",
    "    \"Copper\", \"Alk_Phos\", \"SGOT\", \"Tryglicerides\",\n",
    "    \"Platelets\", \"Prothrombin\", \"Stage\"\n",
    "]\n",
    "X = df_subset[numeric_cols]\n",
    "\n",
    "# 4. Imputasi nilai NaN dengan rata-rata kolom\n",
    "X_imputed = X.fillna(X.mean())\n",
    "\n",
    "# 5. Inisiasi dan fit model LOF\n",
    "lof = LocalOutlierFactor(n_neighbors=20, contamination=0.05)\n",
    "y_pred = lof.fit_predict(X_imputed)\n",
    "scores = lof.negative_outlier_factor_\n",
    "\n",
    "# 6. Tambahkan hasil ke DataFrame subset\n",
    "df_subset['LOF_score'] = scores\n",
    "df_subset['is_outlier'] = (y_pred == -1)\n",
    "\n",
    "# 7. Filter hanya baris outlier dan urutkan berdasarkan skor\n",
    "outliers = df_subset[df_subset['is_outlier']].sort_values('LOF_score')\n",
    "\n",
    "# 8. Tampilkan hasil\n",
    "print(\"Detected outliers:\")\n",
    "print(outliers)"
   ]
  },
  {
   "cell_type": "markdown",
   "id": "4f148632",
   "metadata": {},
   "source": [
    " **Mendeteksi Outlier Menggunakan K-NN**"
   ]
  },
  {
   "cell_type": "code",
   "execution_count": 26,
   "id": "22eaafbe",
   "metadata": {},
   "outputs": [
    {
     "name": "stdout",
     "output_type": "stream",
     "text": [
      "     KNN_score  is_outlier  N_Days    Age  Bilirubin  Cholesterol  Albumin  \\\n",
      "74    7.634211        True    1191  15895       17.1        674.0     2.53   \n",
      "190   7.326208        True     216  19246       24.5       1092.0     3.35   \n",
      "165   7.009484        True    2721  15105        5.7       1480.0     3.26   \n",
      "324   6.342478        True    4795  12419        1.8          NaN     3.24   \n",
      "17    5.902285        True     131  19698       11.4        178.0     2.80   \n",
      "55    5.783596        True    1847  12279        1.1        498.0     3.80   \n",
      "129   5.767484        True    1413  16154       17.4       1775.0     3.43   \n",
      "22    5.718094        True     264  20442       17.4        395.0     2.94   \n",
      "106   5.716930        True    3388  22836        0.6        212.0     4.03   \n",
      "280   5.391823        True      41  24064       17.9        175.0     2.10   \n",
      "246   5.266407        True     732  15056        6.1       1712.0     2.83   \n",
      "85    5.109141        True    1657  19270        5.0       1600.0     3.21   \n",
      "45    4.813601        True    2256  16728        5.7        482.0     2.84   \n",
      "234   4.622684        True    1882  12120       13.0       1336.0     4.16   \n",
      "62    4.526339        True     859  17031       22.5        932.0     3.12   \n",
      "80    4.356411        True    2540  23107       14.4        448.0     3.65   \n",
      "147   4.335995        True    1427  11273        7.2       1015.0     3.26   \n",
      "47    4.320672        True    4427  17947        1.9        259.0     3.70   \n",
      "155   4.288392        True     853  21699       25.5        358.0     3.52   \n",
      "143   4.259522        True     943  19098       28.0        556.0     3.26   \n",
      "54    4.251463        True    1360  24020        1.8        416.0     3.94   \n",
      "\n",
      "     Copper  Alk_Phos    SGOT  Tryglicerides  Platelets  Prothrombin  Stage  \n",
      "74    207.0    2078.0  182.90          598.0      268.0         11.5    4.0  \n",
      "190   233.0    3740.0  147.25          432.0      399.0         15.2    4.0  \n",
      "165    84.0    1960.0  457.25          108.0      213.0          9.5    2.0  \n",
      "324     NaN       NaN     NaN            NaN        NaN         18.0    2.0  \n",
      "17    588.0     961.0  280.55          200.0      283.0         12.4    4.0  \n",
      "55     88.0   13862.4   95.46          319.0      365.0         10.6    2.0  \n",
      "129   205.0    2065.0  165.85           97.0      418.0         11.5    3.0  \n",
      "22    558.0    6064.8  227.04          191.0      214.0         11.7    4.0  \n",
      "106    10.0     648.0   71.30           77.0      316.0         17.1    1.0  \n",
      "280   220.0     705.0  338.00          229.0       62.0         12.9    4.0  \n",
      "246    89.0    3681.0  158.10          139.0      297.0         10.0    3.0  \n",
      "85     75.0    2656.0   82.15          174.0      181.0         10.9    3.0  \n",
      "45    161.0   11552.0  136.74          165.0      518.0         12.7    3.0  \n",
      "234    71.0    3510.0  209.25          111.0      338.0         11.9    3.0  \n",
      "62     95.0    5396.0  244.90          133.0      165.0         11.6    3.0  \n",
      "80     34.0    1218.0   60.45          318.0      385.0         11.7    4.0  \n",
      "147   247.0    3836.0  198.40          280.0      330.0          9.8    3.0  \n",
      "47    281.0   10396.8  188.34          178.0      214.0         11.0    3.0  \n",
      "155   219.0    2468.0  201.50          205.0      151.0         11.5    2.0  \n",
      "143   152.0    3896.0  198.40          171.0      335.0         10.0    3.0  \n",
      "54    121.0   10165.0   79.98          219.0      213.0         11.0    3.0  \n"
     ]
    }
   ],
   "source": [
    "import pandas as pd\n",
    "import numpy as np\n",
    "from sklearn.neighbors import NearestNeighbors\n",
    "from sklearn.preprocessing import StandardScaler\n",
    "\n",
    "# 1. Load data\n",
    "df = pd.read_csv('cirrhosis.csv')\n",
    "\n",
    "# 2. Pilih fitur numerik\n",
    "numeric_cols = [\n",
    "    \"N_Days\", \"Age\", \"Bilirubin\", \"Cholesterol\", \"Albumin\",\n",
    "    \"Copper\", \"Alk_Phos\", \"SGOT\", \"Tryglicerides\",\n",
    "    \"Platelets\", \"Prothrombin\", \"Stage\"\n",
    "]\n",
    "X = df[numeric_cols].copy()\n",
    "\n",
    "# 3. Imputasi nilai NaN\n",
    "X.fillna(X.mean(), inplace=True)\n",
    "\n",
    "# 4. Standarisasi\n",
    "scaler = StandardScaler()\n",
    "X_scaled = scaler.fit_transform(X)\n",
    "\n",
    "# 5. Hitung rata-rata jarak ke k tetangga terdekat\n",
    "k = 20\n",
    "nbrs = NearestNeighbors(n_neighbors=k)\n",
    "nbrs.fit(X_scaled)\n",
    "distances, _ = nbrs.kneighbors(X_scaled)\n",
    "\n",
    "# 6. Skor outlier: rata-rata jarak ke tetangga terdekat\n",
    "outlier_scores = distances.mean(axis=1)\n",
    "df['KNN_score'] = outlier_scores\n",
    "\n",
    "# 7. Tentukan threshold (misal 5% tertinggi dianggap outlier)\n",
    "threshold = np.percentile(outlier_scores, 95)\n",
    "df['is_outlier'] = df['KNN_score'] > threshold\n",
    "\n",
    "# 8. Tampilkan outlier\n",
    "outliers = df[df['is_outlier']].sort_values(by='KNN_score', ascending=False)\n",
    "print(outliers[['KNN_score', 'is_outlier'] + numeric_cols])"
   ]
  },
  {
   "cell_type": "markdown",
   "id": "ab9d512f",
   "metadata": {},
   "source": [
    "## **3. Pemodelan (model klasifikasi)**"
   ]
  },
  {
   "cell_type": "markdown",
   "id": "f89fa3f0",
   "metadata": {},
   "source": [
    "**Model yang Digunakan**\n",
    "- Logistic Regression  \n",
    "- Decision Tree  \n",
    "- Random Forest  \n",
    "- K-Nearest Neighbors  \n",
    "- Support Vector Machine  "
   ]
  },
  {
   "cell_type": "code",
   "execution_count": 27,
   "id": "3d9b5a72",
   "metadata": {},
   "outputs": [
    {
     "name": "stdout",
     "output_type": "stream",
     "text": [
      "Logistic Regression model trained.\n",
      "Decision Tree model trained.\n",
      "Random Forest model trained.\n",
      "KNN model trained.\n",
      "SVM model trained.\n"
     ]
    }
   ],
   "source": [
    "from sklearn.linear_model import LogisticRegression\n",
    "from sklearn.tree import DecisionTreeClassifier\n",
    "from sklearn.ensemble import RandomForestClassifier\n",
    "from sklearn.neighbors import KNeighborsClassifier\n",
    "from sklearn.svm import SVC\n",
    "\n",
    "# Inisialisasi model\n",
    "models = {\n",
    "    'Logistic Regression': LogisticRegression(),\n",
    "    'Decision Tree': DecisionTreeClassifier(),\n",
    "    'Random Forest': RandomForestClassifier(),\n",
    "    'KNN': KNeighborsClassifier(),\n",
    "    'SVM': SVC()\n",
    "}\n",
    "\n",
    "# Melatih dan mengevaluasi setiap model\n",
    "for name, model in models.items():\n",
    "    model.fit(X_train, y_train)\n",
    "    print(f\"{name} model trained.\")\n"
   ]
  },
  {
   "cell_type": "markdown",
   "id": "021caf16",
   "metadata": {},
   "source": [
    "## **4. Evaluasi Model**"
   ]
  },
  {
   "cell_type": "markdown",
   "id": "4d87dd58",
   "metadata": {},
   "source": [
    "**Metrik Evaluasi**\n",
    "- Akurasi  \n",
    "- Precision  \n",
    "- Recall  \n",
    "- F1-Score  \n",
    "- Confusion Matrix  "
   ]
  },
  {
   "cell_type": "markdown",
   "id": "f41e5a58",
   "metadata": {},
   "source": [
    "**Implementasi Evaluasi**"
   ]
  },
  {
   "cell_type": "code",
   "execution_count": 28,
   "id": "4641e344",
   "metadata": {},
   "outputs": [
    {
     "name": "stdout",
     "output_type": "stream",
     "text": [
      "🔍 Evaluasi untuk Logistic Regression:\n",
      "Akurasi: 0.85\n",
      "Precision: 0.56\n",
      "Recall: 0.59\n",
      "F1-Score: 0.58\n"
     ]
    },
    {
     "name": "stderr",
     "output_type": "stream",
     "text": [
      "C:\\Users\\acer\\AppData\\Roaming\\Python\\Python313\\site-packages\\sklearn\\metrics\\_classification.py:1565: UndefinedMetricWarning: Precision is ill-defined and being set to 0.0 in labels with no predicted samples. Use `zero_division` parameter to control this behavior.\n",
      "  _warn_prf(average, modifier, f\"{metric.capitalize()} is\", len(result))\n"
     ]
    },
    {
     "data": {
      "image/png": "[encoded data removed]",
      "text/plain": [
       "<Figure size 640x480 with 2 Axes>"
      ]
     },
     "metadata": {},
     "output_type": "display_data"
    },
    {
     "name": "stdout",
     "output_type": "stream",
     "text": [
      "🔍 Evaluasi untuk Decision Tree:\n",
      "Akurasi: 0.80\n",
      "Precision: 0.70\n",
      "Recall: 0.63\n",
      "F1-Score: 0.65\n"
     ]
    },
    {
     "data": {
      "image/png": "[encoded data removed]",
      "text/plain": [
       "<Figure size 640x480 with 2 Axes>"
      ]
     },
     "metadata": {},
     "output_type": "display_data"
    },
    {
     "name": "stdout",
     "output_type": "stream",
     "text": [
      "🔍 Evaluasi untuk Random Forest:\n",
      "Akurasi: 0.82\n",
      "Precision: 0.88\n",
      "Recall: 0.65\n",
      "F1-Score: 0.69\n"
     ]
    },
    {
     "data": {
      "image/png": "[encoded data removed]",
      "text/plain": [
       "<Figure size 640x480 with 2 Axes>"
      ]
     },
     "metadata": {},
     "output_type": "display_data"
    },
    {
     "name": "stdout",
     "output_type": "stream",
     "text": [
      "🔍 Evaluasi untuk KNN:\n",
      "Akurasi: 0.77\n",
      "Precision: 0.54\n",
      "Recall: 0.53\n",
      "F1-Score: 0.52\n"
     ]
    },
    {
     "name": "stderr",
     "output_type": "stream",
     "text": [
      "C:\\Users\\acer\\AppData\\Roaming\\Python\\Python313\\site-packages\\sklearn\\metrics\\_classification.py:1565: UndefinedMetricWarning: Precision is ill-defined and being set to 0.0 in labels with no predicted samples. Use `zero_division` parameter to control this behavior.\n",
      "  _warn_prf(average, modifier, f\"{metric.capitalize()} is\", len(result))\n"
     ]
    },
    {
     "data": {
      "image/png": "[encoded data removed]",
      "text/plain": [
       "<Figure size 640x480 with 2 Axes>"
      ]
     },
     "metadata": {},
     "output_type": "display_data"
    },
    {
     "name": "stdout",
     "output_type": "stream",
     "text": [
      "🔍 Evaluasi untuk SVM:\n",
      "Akurasi: 0.80\n",
      "Precision: 0.54\n",
      "Recall: 0.55\n",
      "F1-Score: 0.54\n"
     ]
    },
    {
     "name": "stderr",
     "output_type": "stream",
     "text": [
      "C:\\Users\\acer\\AppData\\Roaming\\Python\\Python313\\site-packages\\sklearn\\metrics\\_classification.py:1565: UndefinedMetricWarning: Precision is ill-defined and being set to 0.0 in labels with no predicted samples. Use `zero_division` parameter to control this behavior.\n",
      "  _warn_prf(average, modifier, f\"{metric.capitalize()} is\", len(result))\n"
     ]
    },
    {
     "data": {
      "image/png": "[encoded data removed]",
      "text/plain": [
       "<Figure size 640x480 with 2 Axes>"
      ]
     },
     "metadata": {},
     "output_type": "display_data"
    }
   ],
   "source": [
    "from sklearn.metrics import accuracy_score, precision_score, recall_score, f1_score, confusion_matrix\n",
    "\n",
    "for name, model in models.items():\n",
    "    model.fit(X_train, y_train)  # Latih model\n",
    "    y_pred = model.predict(X_test)  # Prediksi\n",
    "\n",
    "    print(f\"🔍 Evaluasi untuk {name}:\")\n",
    "    print(f\"Akurasi: {accuracy_score(y_test, y_pred):.2f}\")\n",
    "    print(f\"Precision: {precision_score(y_test, y_pred, average='macro'):.2f}\")\n",
    "    print(f\"Recall: {recall_score(y_test, y_pred, average='macro'):.2f}\")\n",
    "    print(f\"F1-Score: {f1_score(y_test, y_pred, average='macro'):.2f}\")\n",
    "\n",
    "    cm = confusion_matrix(y_test, y_pred)\n",
    "    sns.heatmap(cm, annot=True, fmt='d', cmap='Blues')\n",
    "    plt.title(f'Confusion Matrix: {name}')\n",
    "    plt.xlabel('Prediksi')\n",
    "    plt.ylabel('Aktual')\n",
    "    plt.show()\n"
   ]
  }
 ],
 "metadata": {
  "kernelspec": {
   "display_name": "Python 3",
   "language": "python",
   "name": "python3"
  },
  "language_info": {
   "codemirror_mode": {
    "name": "ipython",
    "version": 3
   },
   "file_extension": ".py",
   "mimetype": "text/x-python",
   "name": "python",
   "nbconvert_exporter": "python",
   "pygments_lexer": "ipython3",
   "version": "3.13.0"
  }
 },
 "nbformat": 4,
 "nbformat_minor": 5
}
