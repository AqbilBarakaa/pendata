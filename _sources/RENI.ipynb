{
 "cells": [
  {
   "cell_type": "markdown",
   "id": "df9817ff",
   "metadata": {},
   "source": [
    "### RENI OKTAVIANI"
   ]
  }
 ],
 "metadata": {
  "language_info": {
   "name": "python"
  }
 },
 "nbformat": 4,
 "nbformat_minor": 5
}
